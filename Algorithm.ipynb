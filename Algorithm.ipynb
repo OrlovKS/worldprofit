{
 "cells": [
  {
   "cell_type": "code",
   "execution_count": 1,
   "id": "476ee6b5",
   "metadata": {},
   "outputs": [],
   "source": [
    "import pandas as pd\n",
    "import numpy as np\n",
    "import warnings\n",
    "warnings.simplefilter(action='ignore', category=FutureWarning)\n",
    "warnings.simplefilter(action='ignore', category=UserWarning)\n",
    "ROUND_NUMBER = 20 "
   ]
  },
  {
   "cell_type": "code",
   "execution_count": 2,
   "id": "f8797545",
   "metadata": {},
   "outputs": [
    {
     "data": {
      "text/plain": [
       "index                                               0\n",
       "Date                                                0\n",
       "Country                                             0\n",
       "Region                                              0\n",
       "GDP, $bln                                           0\n",
       "Net Dividends Paid By Nonfinancial Corporates       2\n",
       "Dividends Paid Abroad                            2503\n",
       "FPI into Domestic Equity LEVEL                   5115\n",
       "FDI into Domestic Equity LEVEL                   3912\n",
       "Domestic Companies MrkСap, $bln                  5205\n",
       "dtype: int64"
      ]
     },
     "execution_count": 2,
     "metadata": {},
     "output_type": "execute_result"
    }
   ],
   "source": [
    "df_original = pd.read_excel('./input_full.xlsx')\n",
    "df_original = df_original[df_original['Date'].dt.month ==\n",
    "                          10]  # Используем только данные за 4ый квартал\n",
    "df_original = df_original[df_original['GDP, $bln']!=0] # Убираем ВВП == 0\n",
    "df_original.reset_index(inplace=True)\n",
    "df_original.head()\n",
    "df_original.isna().sum()"
   ]
  },
  {
   "cell_type": "code",
   "execution_count": 3,
   "id": "2a63f797",
   "metadata": {},
   "outputs": [
    {
     "data": {
      "text/plain": [
       "gdr                                                             0\n",
       "net_dividends_paid_by_nonfin_corp                               2\n",
       "dividends_paid_abroad                                        2503\n",
       "fpi_into_domestic_equity_level                               5115\n",
       "fdi_into_domestic_equity_level                               3912\n",
       "domestic_companies_mrk_cap                                   5205\n",
       "domestic_companies_cap                                       6272\n",
       "bop_implied_dividends_yield                                  6272\n",
       "net_dividends_paid_by_nonfin_corp_divide_gdp_interpolated    6272\n",
       "dividends_paid_abroad_divide_gdp_interpolated                6272\n",
       "fdi_into_domestic_equity_level_divide_gdp_interpolated       6272\n",
       "fpi_into_domestic_equity_level_divide_gdp_interpolated       6272\n",
       "domestic_companies_mrk_cap_divide_gdp_interpolated           6272\n",
       "dtype: int64"
      ]
     },
     "execution_count": 3,
     "metadata": {},
     "output_type": "execute_result"
    }
   ],
   "source": [
    "COLUMNS = {\n",
    "    'date':\n",
    "    'Date',\n",
    "    'country':\n",
    "    'Country',\n",
    "    'region':\n",
    "    'Region',\n",
    "    'gdr':\n",
    "    'GDP, $bln',\n",
    "    'net_dividends_paid_by_nonfin_corp':\n",
    "    'Net Dividends Paid By Nonfinancial Corporates',\n",
    "    'dividends_paid_abroad':\n",
    "    'Dividends Paid Abroad',\n",
    "    'fpi_into_domestic_equity_level':\n",
    "    'FPI into Domestic Equity LEVEL',\n",
    "    'fdi_into_domestic_equity_level':\n",
    "    'FDI into Domestic Equity LEVEL',\n",
    "    'domestic_companies_mrk_cap':\n",
    "    'Domestic Companies MrkСap, $bln',\n",
    "    'domestic_companies_cap':\n",
    "    'Domestic Companies Capitalization, $bln',\n",
    "    'bop_implied_dividends_yield':\n",
    "    'BOP-implied Dividends Yield, %',\n",
    "    'net_dividends_paid_by_nonfin_corp_divide_gdp_interpolated':\n",
    "    'Net Dividends Paid By Nonfinancial Corporates [INTERPOLATED] / GDR %',\n",
    "    'dividends_paid_abroad_divide_gdp_interpolated':\n",
    "    'Dividends Paid Abroad [INTERPOLATED] / GDR %',\n",
    "    'fdi_into_domestic_equity_level_divide_gdp_interpolated':\n",
    "    'FDI into Domestic Equity LEVEL [INTERPOLATED] / GDR %',\n",
    "    'fpi_into_domestic_equity_level_divide_gdp_interpolated':\n",
    "    'FPI into Domestic Equity LEVEL [INTERPOLATED] / GDR %',\n",
    "    'domestic_companies_mrk_cap_divide_gdp_interpolated':\n",
    "    'Domestic Companies MrkСap, $bln [INTERPOLATED] / GDR, %'\n",
    "}\n",
    "df = pd.DataFrame(columns=COLUMNS.keys())\n",
    "for column, original_column in COLUMNS.items():\n",
    "    df[column] = df_original.get(original_column, default=np.nan)\n",
    "df.reset_index(inplace=True)\n",
    "df.set_index(['index','date', 'region', 'country'], inplace=True)\n",
    "df.head()\n",
    "df.isna().sum()"
   ]
  },
  {
   "cell_type": "code",
   "execution_count": 4,
   "id": "d385bad1",
   "metadata": {},
   "outputs": [
    {
     "data": {
      "text/plain": [
       "gdr                                                             0\n",
       "net_dividends_paid_by_nonfin_corp                               2\n",
       "dividends_paid_abroad                                        2503\n",
       "fpi_into_domestic_equity_level                               5115\n",
       "fdi_into_domestic_equity_level                               3912\n",
       "domestic_companies_mrk_cap                                   5205\n",
       "domestic_companies_cap                                       6272\n",
       "bop_implied_dividends_yield                                  6272\n",
       "net_dividends_paid_by_nonfin_corp_divide_gdp_interpolated       2\n",
       "dividends_paid_abroad_divide_gdp_interpolated                2503\n",
       "fdi_into_domestic_equity_level_divide_gdp_interpolated       3912\n",
       "fpi_into_domestic_equity_level_divide_gdp_interpolated       5115\n",
       "domestic_companies_mrk_cap_divide_gdp_interpolated           5205\n",
       "dtype: int64"
      ]
     },
     "execution_count": 4,
     "metadata": {},
     "output_type": "execute_result"
    }
   ],
   "source": [
    "df['net_dividends_paid_by_nonfin_corp_divide_gdp_interpolated'] = (\n",
    "    df['net_dividends_paid_by_nonfin_corp'] / df['gdr'])\n",
    "df['dividends_paid_abroad_divide_gdp_interpolated'] = (\n",
    "    df['dividends_paid_abroad'] / df['gdr'])\n",
    "df['fdi_into_domestic_equity_level_divide_gdp_interpolated'] = (\n",
    "    df['fdi_into_domestic_equity_level'] / df['gdr'])\n",
    "df['fpi_into_domestic_equity_level_divide_gdp_interpolated'] = (\n",
    "    df['fpi_into_domestic_equity_level'] / df['gdr'])\n",
    "df['domestic_companies_mrk_cap_divide_gdp_interpolated'] = (\n",
    "    df['domestic_companies_mrk_cap'] / df['gdr'])\n",
    "df.isna().sum()"
   ]
  },
  {
   "cell_type": "code",
   "execution_count": 5,
   "id": "352603d2",
   "metadata": {},
   "outputs": [
    {
     "name": "stdout",
     "output_type": "stream",
     "text": [
      "(0, Timestamp('1980-10-01 00:00:00'), 'North America', 'USA')\n"
     ]
    },
    {
     "data": {
      "text/plain": [
       "gdr                                                             0\n",
       "net_dividends_paid_by_nonfin_corp                               2\n",
       "dividends_paid_abroad                                        2503\n",
       "fpi_into_domestic_equity_level                               5115\n",
       "fdi_into_domestic_equity_level                               3912\n",
       "domestic_companies_mrk_cap                                   5205\n",
       "domestic_companies_cap                                       6272\n",
       "bop_implied_dividends_yield                                  6272\n",
       "net_dividends_paid_by_nonfin_corp_divide_gdp_interpolated       2\n",
       "dividends_paid_abroad_divide_gdp_interpolated                1365\n",
       "fdi_into_domestic_equity_level_divide_gdp_interpolated       1912\n",
       "fpi_into_domestic_equity_level_divide_gdp_interpolated       3997\n",
       "domestic_companies_mrk_cap_divide_gdp_interpolated           4525\n",
       "dtype: int64"
      ]
     },
     "execution_count": 5,
     "metadata": {},
     "output_type": "execute_result"
    }
   ],
   "source": [
    "from scipy.interpolate import interp1d\n",
    "from scipy import arange, array, exp\n",
    "\n",
    "def check_possible_for_trand_line(lst: pd.Series,\n",
    "                                  count_in_a_row: int = 5) -> bool:\n",
    "    \"\"\" Проверяем возможно-ли построить линию тренда (требуется count_in_a_row точек подряд) \"\"\"\n",
    "    if len([x for x in lst.rolling(count_in_a_row)\n",
    "            if 0 == x.isnull().sum()]) == 0:\n",
    "        return False\n",
    "    return True\n",
    "\n",
    "\n",
    "\n",
    "def my_interpolate(original_lst):\n",
    "    original_lst = original_lst\n",
    "    x1, x2 = 1, 5\n",
    "    def pointwise(x0):\n",
    "        direction = get_direction(x0)\n",
    "        if direction is not None and np.isnan(original_lst.loc[x0].values):\n",
    "            f_x1 = original_lst.loc[x0 - x1 * direction].values\n",
    "            f_x2 = original_lst.loc[x0 - x2 * direction].values\n",
    "            result = max(\n",
    "                f_x1 + (0 - x1) * ((f_x2 - f_x1) / (x2 - x1)), 0)\n",
    "            original_lst.loc[x0] = result\n",
    "\n",
    "    def get_direction(x0):\n",
    "        if original_lst.loc[x0 - x2:x0].isnull().sum() == 0 and x0 - x2 >= original_lst.index.get_level_values(0).min():\n",
    "            return 1\n",
    "        if original_lst.loc[x0 + 1:x0 + x2 + 1].isnull().sum(\n",
    "        ) == 0 and x0 + x2 + 1 < original_lst.index.get_level_values(0).max():\n",
    "            return -1\n",
    "        return None\n",
    "\n",
    "    def ufunclike(xs):\n",
    "        list(map(pointwise, xs))\n",
    "    return ufunclike\n",
    "\n",
    "\n",
    "\n",
    "\n",
    "\n",
    "def set_values_by_line_trand(df: pd.DataFrame, column_name: str) -> None:\n",
    "    \"\"\" Проставляет значения в колонках columns по алгоритму линейной интер/экстраполяции \"\"\"\n",
    "    df.reset_index(inplace=True)\n",
    "    df.set_index(['index','date', 'region', 'country'], inplace=True)\n",
    "    def f(dfGroupBy):\n",
    "        lst = dfGroupBy[column_name]\n",
    "        if check_possible_for_trand_line(lst) and lst.isna().sum() > 0:\n",
    "            f_x = my_interpolate(lst)\n",
    "            f_x(lst[lst.isna()].index.get_level_values(0).to_list()[::1])\n",
    "            f_x(lst[lst.isna()].index.get_level_values(0).to_list()[::-1])\n",
    "            df[column_name].fillna(lst, inplace=True)\n",
    "            \n",
    "    df.groupby('country').apply(f)\n",
    "\n",
    "set_values_by_line_trand(df, \"dividends_paid_abroad_divide_gdp_interpolated\")\n",
    "\n",
    "set_values_by_line_trand(\n",
    "    df, \"fdi_into_domestic_equity_level_divide_gdp_interpolated\")\n",
    "\n",
    "set_values_by_line_trand(\n",
    "    df, \"fpi_into_domestic_equity_level_divide_gdp_interpolated\")\n",
    "\n",
    "set_values_by_line_trand(df,\n",
    "                         \"domestic_companies_mrk_cap_divide_gdp_interpolated\")\n",
    "df.head()\n",
    "df.isna().sum()"
   ]
  },
  {
   "cell_type": "code",
   "execution_count": 6,
   "id": "a394ba34",
   "metadata": {},
   "outputs": [
    {
     "data": {
      "text/plain": [
       "gdr                                                             0\n",
       "net_dividends_paid_by_nonfin_corp                               2\n",
       "dividends_paid_abroad                                        2503\n",
       "fpi_into_domestic_equity_level                               5115\n",
       "fdi_into_domestic_equity_level                               3912\n",
       "domestic_companies_mrk_cap                                   5205\n",
       "domestic_companies_cap                                       6272\n",
       "bop_implied_dividends_yield                                  6272\n",
       "net_dividends_paid_by_nonfin_corp_divide_gdp_interpolated       2\n",
       "dividends_paid_abroad_divide_gdp_interpolated                   8\n",
       "fdi_into_domestic_equity_level_divide_gdp_interpolated         74\n",
       "fpi_into_domestic_equity_level_divide_gdp_interpolated        170\n",
       "domestic_companies_mrk_cap_divide_gdp_interpolated            256\n",
       "dtype: int64"
      ]
     },
     "execution_count": 6,
     "metadata": {},
     "output_type": "execute_result"
    }
   ],
   "source": [
    "def get_means_by_year(column_name: str,\n",
    "                      df_original: pd.DataFrame) -> pd.Series:\n",
    "    \"\"\" Получение среднего значение по региону по годам \"\"\"\n",
    "    tmp = df_original.groupby(['region', 'date']).mean()[column_name]\n",
    "    return pd.Series(data=tmp, dtype='float64')\n",
    "\n",
    "\n",
    "def set_values_by_mean_years(df: pd.DataFrame, column_name: str):\n",
    "    \"\"\" Проставляет значения в колонках columns используя среднее значение за год по всему региону\"\"\"\n",
    "    avgs_by_year = get_means_by_year(column_name, df)\n",
    "    df.reset_index(inplace=True)\n",
    "    df.set_index(['region','date', 'index', 'country'], inplace=True)\n",
    "    df[column_name].fillna(avgs_by_year, inplace=True)\n",
    "\n",
    "\n",
    "set_values_by_mean_years(df, 'dividends_paid_abroad_divide_gdp_interpolated')\n",
    "set_values_by_mean_years(\n",
    "    df, 'fdi_into_domestic_equity_level_divide_gdp_interpolated')\n",
    "set_values_by_mean_years(\n",
    "    df, 'fpi_into_domestic_equity_level_divide_gdp_interpolated')\n",
    "set_values_by_mean_years(df,\n",
    "                         'domestic_companies_mrk_cap_divide_gdp_interpolated')\n",
    "\n",
    "df.head()\n",
    "df.isna().sum()"
   ]
  },
  {
   "cell_type": "code",
   "execution_count": 7,
   "id": "d7942ae2",
   "metadata": {},
   "outputs": [
    {
     "data": {
      "text/plain": [
       "gdr                                                             0\n",
       "net_dividends_paid_by_nonfin_corp                               2\n",
       "dividends_paid_abroad                                        2503\n",
       "fpi_into_domestic_equity_level                               5115\n",
       "fdi_into_domestic_equity_level                               3912\n",
       "domestic_companies_mrk_cap                                   5205\n",
       "domestic_companies_cap                                       6272\n",
       "bop_implied_dividends_yield                                  6272\n",
       "net_dividends_paid_by_nonfin_corp_divide_gdp_interpolated       2\n",
       "dividends_paid_abroad_divide_gdp_interpolated                   0\n",
       "fdi_into_domestic_equity_level_divide_gdp_interpolated          0\n",
       "fpi_into_domestic_equity_level_divide_gdp_interpolated        128\n",
       "domestic_companies_mrk_cap_divide_gdp_interpolated            128\n",
       "dtype: int64"
      ]
     },
     "execution_count": 7,
     "metadata": {},
     "output_type": "execute_result"
    }
   ],
   "source": [
    "def get_mean_by_region(df_original: pd.DataFrame,\n",
    "                       column_name: str) -> pd.Series:\n",
    "    \"\"\" Получение среднего значение по региону \"\"\"\n",
    "    tmp = df_original.groupby(['region']).mean()[column_name]\n",
    "    \n",
    "    return pd.Series(data=tmp, dtype='float64')\n",
    "\n",
    "\n",
    "def set_values_by_mean_region(df: pd.DataFrame, column_name: str) -> None:\n",
    "    \"\"\" Проставляет значения в колонках columns используя среднее значение за все время по всему региону\"\"\"\n",
    "    avgs_by_region = get_mean_by_region(df, column_name)\n",
    "    df.reset_index(inplace=True)\n",
    "    df.set_index(['region'], inplace=True)\n",
    "    df[column_name].fillna(avgs_by_region, inplace=True)\n",
    "    df.reset_index(inplace=True)\n",
    "    df.set_index(['region','date', 'index', 'country'], inplace=True)\n",
    "\n",
    "set_values_by_mean_region(df, 'dividends_paid_abroad_divide_gdp_interpolated')\n",
    "set_values_by_mean_region(\n",
    "    df, 'fdi_into_domestic_equity_level_divide_gdp_interpolated')\n",
    "set_values_by_mean_region(\n",
    "    df, 'fpi_into_domestic_equity_level_divide_gdp_interpolated')\n",
    "set_values_by_mean_region(\n",
    "    df, 'domestic_companies_mrk_cap_divide_gdp_interpolated')\n",
    "df.head()\n",
    "df.isna().sum()"
   ]
  },
  {
   "cell_type": "code",
   "execution_count": 8,
   "id": "7ab4c7a3",
   "metadata": {},
   "outputs": [
    {
     "data": {
      "text/plain": [
       "gdr                                                            0\n",
       "net_dividends_paid_by_nonfin_corp                              2\n",
       "dividends_paid_abroad                                          0\n",
       "fpi_into_domestic_equity_level                               128\n",
       "fdi_into_domestic_equity_level                                 0\n",
       "domestic_companies_mrk_cap                                   128\n",
       "domestic_companies_cap                                       128\n",
       "bop_implied_dividends_yield                                   35\n",
       "net_dividends_paid_by_nonfin_corp_divide_gdp_interpolated      2\n",
       "dividends_paid_abroad_divide_gdp_interpolated                  0\n",
       "fdi_into_domestic_equity_level_divide_gdp_interpolated         0\n",
       "fpi_into_domestic_equity_level_divide_gdp_interpolated       128\n",
       "domestic_companies_mrk_cap_divide_gdp_interpolated           128\n",
       "dtype: int64"
      ]
     },
     "execution_count": 8,
     "metadata": {},
     "output_type": "execute_result"
    }
   ],
   "source": [
    "df['dividends_paid_abroad'].fillna(\n",
    "    value=df['dividends_paid_abroad_divide_gdp_interpolated'] * df['gdr'],\n",
    "    inplace=True)\n",
    "df['fdi_into_domestic_equity_level'].fillna(\n",
    "    value=df['fdi_into_domestic_equity_level_divide_gdp_interpolated'] *\n",
    "    df['gdr'],\n",
    "    inplace=True)\n",
    "df['fpi_into_domestic_equity_level'].fillna(\n",
    "    value=df['fpi_into_domestic_equity_level_divide_gdp_interpolated'] *\n",
    "    df['gdr'],\n",
    "    inplace=True)\n",
    "df['domestic_companies_mrk_cap'].fillna(\n",
    "    value=df['domestic_companies_mrk_cap_divide_gdp_interpolated'] * df['gdr'],\n",
    "    inplace=True)\n",
    "df['domestic_companies_cap'].fillna(\n",
    "    value=df[['domestic_companies_mrk_cap', 'fpi_into_domestic_equity_level'\n",
    "              ]].max(axis=1) + df['fdi_into_domestic_equity_level'].fillna(0),\n",
    "    inplace=True)\n",
    "df['bop_implied_dividends_yield'].fillna(\n",
    "    value=df['dividends_paid_abroad'] / (df['fdi_into_domestic_equity_level'].fillna(0) +\n",
    "                                         df['fpi_into_domestic_equity_level'].fillna(0)),\n",
    "    inplace=True)\n",
    "df.isna().sum()"
   ]
  },
  {
   "cell_type": "code",
   "execution_count": 9,
   "id": "bd4c1fa2",
   "metadata": {},
   "outputs": [
    {
     "data": {
      "text/plain": [
       "gdr                                                            0\n",
       "net_dividends_paid_by_nonfin_corp                              0\n",
       "dividends_paid_abroad                                          0\n",
       "fpi_into_domestic_equity_level                               128\n",
       "fdi_into_domestic_equity_level                                 0\n",
       "domestic_companies_mrk_cap                                   128\n",
       "domestic_companies_cap                                       128\n",
       "bop_implied_dividends_yield                                   35\n",
       "net_dividends_paid_by_nonfin_corp_divide_gdp_interpolated      0\n",
       "dividends_paid_abroad_divide_gdp_interpolated                  0\n",
       "fdi_into_domestic_equity_level_divide_gdp_interpolated         0\n",
       "fpi_into_domestic_equity_level_divide_gdp_interpolated       128\n",
       "domestic_companies_mrk_cap_divide_gdp_interpolated           128\n",
       "dtype: int64"
      ]
     },
     "execution_count": 9,
     "metadata": {},
     "output_type": "execute_result"
    }
   ],
   "source": [
    "set_values_by_line_trand(\n",
    "    df, 'net_dividends_paid_by_nonfin_corp_divide_gdp_interpolated')\n",
    "df['net_dividends_paid_by_nonfin_corp'].fillna(\n",
    "    value=df['net_dividends_paid_by_nonfin_corp_divide_gdp_interpolated'] *\n",
    "    df['gdr'],\n",
    "    inplace=True)\n",
    "df['net_dividends_paid_by_nonfin_corp'].fillna(\n",
    "    value=df['domestic_companies_cap'] * df['bop_implied_dividends_yield'] -\n",
    "    df['dividends_paid_abroad'],\n",
    "    inplace=True)\n",
    "df.isna().sum()"
   ]
  },
  {
   "cell_type": "code",
   "execution_count": 10,
   "id": "60ae2d2a",
   "metadata": {},
   "outputs": [],
   "source": [
    "t = df.copy().reset_index()\n",
    "t.to_excel('./output.xlsx')"
   ]
  },
  {
   "cell_type": "code",
   "execution_count": 11,
   "id": "06ea0526",
   "metadata": {},
   "outputs": [
    {
     "data": {
      "text/plain": [
       "<AxesSubplot:xlabel='date'>"
      ]
     },
     "execution_count": 11,
     "metadata": {},
     "output_type": "execute_result"
    },
    {
     "data": {
      "image/png": "[encoded data removed]",
      "text/plain": [
       "<Figure size 1440x432 with 1 Axes>"
      ]
     },
     "metadata": {
      "needs_background": "light"
     },
     "output_type": "display_data"
    }
   ],
   "source": [
    "# Указать страну\n",
    "country = 'USA'\n",
    "# Указать параметр(столбец)\n",
    "column = 'bop_implied_dividends_yield'\n",
    "\n",
    "output_data = pd.read_excel('./output.xlsx')\n",
    "tmp = output_data[output_data['country'] == country]\n",
    "tmp = tmp[['date', f'{column}']]\n",
    "tmp.plot.bar(x='date', figsize=(20, 6))"
   ]
  },
  {
   "cell_type": "code",
   "execution_count": null,
   "id": "28bdf5ca",
   "metadata": {},
   "outputs": [],
   "source": []
  }
 ],
 "metadata": {
  "kernelspec": {
   "display_name": "Python 3 (ipykernel)",
   "language": "python",
   "name": "python3"
  },
  "language_info": {
   "codemirror_mode": {
    "name": "ipython",
    "version": 3
   },
   "file_extension": ".py",
   "mimetype": "text/x-python",
   "name": "python",
   "nbconvert_exporter": "python",
   "pygments_lexer": "ipython3",
   "version": "3.9.7"
  }
 },
 "nbformat": 4,
 "nbformat_minor": 5
}
